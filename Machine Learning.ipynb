{
 "cells": [
  {
   "cell_type": "code",
   "execution_count": 169,
   "metadata": {
    "collapsed": true
   },
   "outputs": [],
   "source": [
    "import pandas as pd\n",
    "import numpy as np\n",
    "import seaborn as sns\n",
    "from sklearn.linear_model import LinearRegression\n",
    "import matplotlib.pyplot as plt\n",
    "from scipy import stats\n",
    "from sklearn.linear_model import LinearRegression\n",
    "from sklearn.metrics import mean_squared_error\n",
    "from sklearn.model_selection import train_test_split\n",
    "from sklearn.neighbors import KNeighborsClassifier\n",
    "from sklearn.decomposition import PCA\n",
    "\n",
    "sns.set_context(\"poster\")\n",
    "\n",
    "\n",
    "demographics2 = pd.read_csv('demographics2.csv')\n",
    "X = demographics2.iloc[:, 2:]\n",
    "\n",
    "y = demographics2.badteeth.values"
   ]
  },
  {
   "cell_type": "code",
   "execution_count": 170,
   "metadata": {},
   "outputs": [
    {
     "name": "stdout",
     "output_type": "stream",
     "text": [
      "[4 4 1 4 3 4 1 4 4 4 1 1 1 1 3 4 3 4 2 4 4 1 1 4 2 4 1 1 3 1 3 3 4 1 2 3 1\n",
      " 1 1 1 0 1 1 3 3 0 1 1 0 1 3 1 1 1 0 0 0 0 1 3 2 1 0 2 0 0 0 0 1 0 0 0 1 3\n",
      " 0 0 1 0]\n",
      "   Country  badteeth  literacy_avg  water_avg      GDP_avg   sugar_avg  \\\n",
      "0        0      3.02     98.712978       88.0  1011.752695   49.504318   \n",
      "1        1      2.30     59.752193       90.4  1625.140989   67.995227   \n",
      "2        2      1.70     67.405416       38.4   318.739949   33.129091   \n",
      "3        3      0.70     98.950000       98.0  7874.822798   98.443182   \n",
      "4        4      2.70     98.737052       98.0  1196.023043  100.526923   \n",
      "\n",
      "   health_avg  Low_BMI  Adolescent birth rate  Tobacco_Use  Smokers  0  \n",
      "0   24.751387      1.9                   19.7         11.8     11.5  4  \n",
      "1   50.424490      6.2                   12.4          9.0      5.7  4  \n",
      "2   12.275108     10.3                  190.9         19.8      2.3  1  \n",
      "3  259.996606      3.5                   66.8         11.9      7.4  4  \n",
      "4   64.079201      2.5                   21.6         26.9     26.5  3  \n",
      "             Countries  badteeth  labels\n",
      "0              Albania      3.02       4\n",
      "1              Algeria      2.30       4\n",
      "2               Angola      1.70       1\n",
      "3  Antigua and Barbuda      0.70       4\n",
      "4              Belarus      2.70       3\n"
     ]
    },
    {
     "data": {
      "text/html": [
       "<div>\n",
       "<style>\n",
       "    .dataframe thead tr:only-child th {\n",
       "        text-align: right;\n",
       "    }\n",
       "\n",
       "    .dataframe thead th {\n",
       "        text-align: left;\n",
       "    }\n",
       "\n",
       "    .dataframe tbody tr th {\n",
       "        vertical-align: top;\n",
       "    }\n",
       "</style>\n",
       "<table border=\"1\" class=\"dataframe\">\n",
       "  <thead>\n",
       "    <tr>\n",
       "      <th></th>\n",
       "      <th colspan=\"8\" halign=\"left\">badteeth</th>\n",
       "    </tr>\n",
       "    <tr>\n",
       "      <th></th>\n",
       "      <th>count</th>\n",
       "      <th>mean</th>\n",
       "      <th>std</th>\n",
       "      <th>min</th>\n",
       "      <th>25%</th>\n",
       "      <th>50%</th>\n",
       "      <th>75%</th>\n",
       "      <th>max</th>\n",
       "    </tr>\n",
       "    <tr>\n",
       "      <th>labels</th>\n",
       "      <th></th>\n",
       "      <th></th>\n",
       "      <th></th>\n",
       "      <th></th>\n",
       "      <th></th>\n",
       "      <th></th>\n",
       "      <th></th>\n",
       "      <th></th>\n",
       "    </tr>\n",
       "  </thead>\n",
       "  <tbody>\n",
       "    <tr>\n",
       "      <th>0</th>\n",
       "      <td>18.0</td>\n",
       "      <td>1.897222</td>\n",
       "      <td>0.943160</td>\n",
       "      <td>0.60</td>\n",
       "      <td>1.2250</td>\n",
       "      <td>1.45</td>\n",
       "      <td>2.650</td>\n",
       "      <td>3.80</td>\n",
       "    </tr>\n",
       "    <tr>\n",
       "      <th>1</th>\n",
       "      <td>29.0</td>\n",
       "      <td>1.423448</td>\n",
       "      <td>0.965469</td>\n",
       "      <td>0.30</td>\n",
       "      <td>0.6500</td>\n",
       "      <td>1.30</td>\n",
       "      <td>2.200</td>\n",
       "      <td>3.94</td>\n",
       "    </tr>\n",
       "    <tr>\n",
       "      <th>2</th>\n",
       "      <td>5.0</td>\n",
       "      <td>2.728000</td>\n",
       "      <td>1.853354</td>\n",
       "      <td>1.14</td>\n",
       "      <td>1.8000</td>\n",
       "      <td>2.20</td>\n",
       "      <td>2.600</td>\n",
       "      <td>5.90</td>\n",
       "    </tr>\n",
       "    <tr>\n",
       "      <th>3</th>\n",
       "      <td>12.0</td>\n",
       "      <td>3.000000</td>\n",
       "      <td>1.108644</td>\n",
       "      <td>1.10</td>\n",
       "      <td>2.3750</td>\n",
       "      <td>3.30</td>\n",
       "      <td>3.425</td>\n",
       "      <td>4.90</td>\n",
       "    </tr>\n",
       "    <tr>\n",
       "      <th>4</th>\n",
       "      <td>14.0</td>\n",
       "      <td>2.102143</td>\n",
       "      <td>1.470417</td>\n",
       "      <td>0.50</td>\n",
       "      <td>1.0675</td>\n",
       "      <td>1.75</td>\n",
       "      <td>2.700</td>\n",
       "      <td>5.20</td>\n",
       "    </tr>\n",
       "  </tbody>\n",
       "</table>\n",
       "</div>"
      ],
      "text/plain": [
       "       badteeth                                                     \n",
       "          count      mean       std   min     25%   50%    75%   max\n",
       "labels                                                              \n",
       "0          18.0  1.897222  0.943160  0.60  1.2250  1.45  2.650  3.80\n",
       "1          29.0  1.423448  0.965469  0.30  0.6500  1.30  2.200  3.94\n",
       "2           5.0  2.728000  1.853354  1.14  1.8000  2.20  2.600  5.90\n",
       "3          12.0  3.000000  1.108644  1.10  2.3750  3.30  3.425  4.90\n",
       "4          14.0  2.102143  1.470417  0.50  1.0675  1.75  2.700  5.20"
      ]
     },
     "execution_count": 170,
     "metadata": {},
     "output_type": "execute_result"
    }
   ],
   "source": [
    "from sklearn.cluster import KMeans\n",
    "import numpy as np\n",
    "from sklearn.preprocessing import MinMaxScaler\n",
    "\n",
    "\n",
    "# copy your original data frame, which includes all variables\n",
    "data_cluster = demographics2.copy()\n",
    "\n",
    "# drop Country column\n",
    "data_cluster.drop( \"Country\", inplace=True, axis=1)\n",
    "\n",
    "min_max_scaler = MinMaxScaler()\n",
    "X_train_minmax = min_max_scaler.fit_transform(data_cluster)\n",
    "\n",
    "\n",
    "clustered_data = KMeans(n_clusters=5, random_state=0).fit_predict(X_train_minmax)\n",
    "\n",
    "print(clustered_data)\n",
    "\n",
    "\n",
    "#demo['cluster'] = pd.Series(clustered_data, index=demo.index)\n",
    "df_cluster = pd.DataFrame(clustered_data)\n",
    "demo_cluster = pd.concat([data_cluster, df_cluster], axis=1)\n",
    "demo_cluster.rename(columns={\"0\": \"cluster\", \"Unnamed: 0\" : \"Country\"}, inplace=True)\n",
    "\n",
    "                           \n",
    "\n",
    "print(demo_cluster.head())\n",
    "countries = list(demographics2['Country'])\n",
    "teeth =list(demographics2['badteeth'])\n",
    "\n",
    "df = pd.DataFrame({'labels' : clustered_data, 'Countries' : countries, 'badteeth' : teeth})\n",
    "\n",
    "print(df.head())\n",
    "\n",
    "df.groupby('labels').describe()\n",
    "\n"
   ]
  },
  {
   "cell_type": "code",
   "execution_count": 171,
   "metadata": {},
   "outputs": [],
   "source": [
    "zero = df[df['labels'] == 0]\n",
    "one = df[df['labels'] == 1]\n",
    "two = df[df['labels'] == 2]\n",
    "three = df[df['labels'] == 3]\n",
    "four = df[df['labels'] == 4]"
   ]
  },
  {
   "cell_type": "code",
   "execution_count": 172,
   "metadata": {},
   "outputs": [
    {
     "name": "stdout",
     "output_type": "stream",
     "text": [
      "22.0877887452\n"
     ]
    }
   ],
   "source": [
    "model = KMeans(n_clusters=5, random_state=0).fit(X_train_minmax)\n",
    "print(model.inertia_)"
   ]
  },
  {
   "cell_type": "code",
   "execution_count": 173,
   "metadata": {},
   "outputs": [
    {
     "data": {
      "image/png": "[encoded data removed]",
      "text/plain": [
       "<matplotlib.figure.Figure at 0x1a1a624d68>"
      ]
     },
     "metadata": {},
     "output_type": "display_data"
    }
   ],
   "source": [
    "ks = range(1, 8)\n",
    "inertias = []\n",
    "\n",
    "for k in ks:\n",
    "    # Create a KMeans instance with k clusters: model\n",
    "    model = KMeans(n_clusters=k)\n",
    "    \n",
    "    # Fit model to samples\n",
    "    model.fit(X_train_minmax)\n",
    "    \n",
    "    # Append the inertia to the list of inertias\n",
    "    inertias.append(model.inertia_)\n",
    "    \n",
    "# Plot ks vs inertias\n",
    "plt.plot(ks, inertias, '-o')\n",
    "plt.xlabel('number of clusters, k')\n",
    "plt.ylabel('inertia')\n",
    "plt.xticks(ks)\n",
    "plt.show()"
   ]
  },
  {
   "cell_type": "code",
   "execution_count": 174,
   "metadata": {},
   "outputs": [
    {
     "name": "stdout",
     "output_type": "stream",
     "text": [
      "24.5432657016\n"
     ]
    }
   ],
   "source": [
    "fourclusters = KMeans(n_clusters=4, random_state=0).fit(X_train_minmax)\n",
    "print(fourclusters.inertia_)"
   ]
  },
  {
   "cell_type": "code",
   "execution_count": 175,
   "metadata": {},
   "outputs": [
    {
     "name": "stdout",
     "output_type": "stream",
     "text": [
      "        badteeth  labels\n",
      "count  18.000000    18.0\n",
      "mean    1.897222     0.0\n",
      "std     0.943160     0.0\n",
      "min     0.600000     0.0\n",
      "25%     1.225000     0.0\n",
      "50%     1.450000     0.0\n",
      "75%     2.650000     0.0\n",
      "max     3.800000     0.0\n",
      "              Countries  badteeth  labels\n",
      "40             Maldives      2.10       0\n",
      "45             Mongolia      1.90       0\n",
      "48              Namibia      1.20       0\n",
      "54               Panama      3.60       0\n",
      "55             Paraguay      3.80       0\n",
      "56          Philippines      2.90       0\n",
      "57              Romania      2.80       0\n",
      "62           Seychelles      1.50       0\n",
      "64         South Africa      1.05       0\n",
      "65            Sri Lanka      1.40       0\n",
      "66            Swaziland      0.90       0\n",
      "67           Tajikistan      1.20       0\n",
      "69  Trinidad and Tobago      0.60       0\n",
      "70              Tunisia      1.30       0\n",
      "71               Turkey      2.70       0\n",
      "74              Uruguay      2.50       0\n",
      "75           Uzbekistan      1.40       0\n",
      "77             Zimbabwe      1.30       0\n"
     ]
    }
   ],
   "source": [
    "print(zero.describe())\n",
    "print(zero)"
   ]
  },
  {
   "cell_type": "code",
   "execution_count": 176,
   "metadata": {},
   "outputs": [
    {
     "name": "stdout",
     "output_type": "stream",
     "text": [
      "        badteeth  labels\n",
      "count  29.000000    29.0\n",
      "mean    1.423448     1.0\n",
      "std     0.965469     0.0\n",
      "min     0.300000     1.0\n",
      "25%     0.650000     1.0\n",
      "50%     1.300000     1.0\n",
      "75%     2.200000     1.0\n",
      "max     3.940000     1.0\n",
      "        Countries  badteeth  labels\n",
      "2          Angola      1.70       1\n",
      "6           Benin      0.80       1\n",
      "10   Burkina Faso      0.70       1\n",
      "11        Burundi      1.00       1\n",
      "12       Cambodia      2.30       1\n",
      "13       Cameroon      1.50       1\n",
      "21       Ethiopia      1.55       1\n",
      "22         Gambia      2.30       1\n",
      "26  Guinea-Bissau      0.50       1\n",
      "27          Haiti      0.65       1\n",
      "29          India      3.94       1\n",
      "33          Kenya      1.35       1\n",
      "36        Lesotho      0.40       1\n",
      "37        Liberia      0.40       1\n",
      "38     Madagascar      3.10       1\n",
      "39         Malawi      0.70       1\n",
      "41           Mali      2.20       1\n",
      "42     Mauritania      2.00       1\n",
      "46        Morocco      2.50       1\n",
      "47     Mozambique      3.05       1\n",
      "49          Nepal      0.50       1\n",
      "51          Niger      1.30       1\n",
      "52        Nigeria      0.46       1\n",
      "53       Pakistan      1.38       1\n",
      "58         Rwanda      0.30       1\n",
      "61        Senegal      1.20       1\n",
      "68           Togo      0.30       1\n",
      "72         Uganda      0.90       1\n",
      "76         Zambia      2.30       1\n"
     ]
    }
   ],
   "source": [
    "print(one.describe())\n",
    "print(one)"
   ]
  },
  {
   "cell_type": "code",
   "execution_count": 177,
   "metadata": {},
   "outputs": [
    {
     "name": "stdout",
     "output_type": "stream",
     "text": [
      "       badteeth  labels\n",
      "count  5.000000     5.0\n",
      "mean   2.728000     2.0\n",
      "std    1.853354     0.0\n",
      "min    1.140000     2.0\n",
      "25%    1.800000     2.0\n",
      "50%    2.200000     2.0\n",
      "75%    2.600000     2.0\n",
      "max    5.900000     2.0\n",
      "       Countries  badteeth  labels\n",
      "18        Cyprus      1.14       2\n",
      "24        Greece      2.20       2\n",
      "34        Kuwait      2.60       2\n",
      "60  Saudi Arabia      5.90       2\n",
      "63      Slovenia      1.80       2\n"
     ]
    }
   ],
   "source": [
    "print(two.describe())\n",
    "print(two)"
   ]
  },
  {
   "cell_type": "code",
   "execution_count": 178,
   "metadata": {},
   "outputs": [
    {
     "name": "stdout",
     "output_type": "stream",
     "text": [
      "        badteeth  labels\n",
      "count  12.000000    12.0\n",
      "mean    3.000000     3.0\n",
      "std     1.108644     0.0\n",
      "min     1.100000     3.0\n",
      "25%     2.375000     3.0\n",
      "50%     3.300000     3.0\n",
      "75%     3.425000     3.0\n",
      "max     4.900000     3.0\n",
      "    Countries  badteeth  labels\n",
      "4     Belarus       2.7       3\n",
      "14      Chile       3.4       3\n",
      "16    Croatia       3.5       3\n",
      "28    Hungary       3.3       3\n",
      "30    Jamaica       1.1       3\n",
      "31     Jordan       3.3       3\n",
      "35     Latvia       3.4       3\n",
      "43  Mauritius       4.9       3\n",
      "44     Mexico       2.0       3\n",
      "50  Nicaragua       1.5       3\n",
      "59      Samoa       2.5       3\n",
      "73    Ukraine       4.4       3\n"
     ]
    }
   ],
   "source": [
    "print(three.describe())\n",
    "print(three)"
   ]
  },
  {
   "cell_type": "code",
   "execution_count": 179,
   "metadata": {},
   "outputs": [
    {
     "name": "stdout",
     "output_type": "stream",
     "text": [
      "        badteeth  labels\n",
      "count  14.000000    14.0\n",
      "mean    2.102143     4.0\n",
      "std     1.470417     0.0\n",
      "min     0.500000     4.0\n",
      "25%     1.067500     4.0\n",
      "50%     1.750000     4.0\n",
      "75%     2.700000     4.0\n",
      "max     5.200000     4.0\n",
      "                 Countries  badteeth  labels\n",
      "0                  Albania      3.02       4\n",
      "1                  Algeria      2.30       4\n",
      "3      Antigua and Barbuda      0.70       4\n",
      "5                   Belize      0.60       4\n",
      "7   Bosnia and Herzegovina      4.80       4\n",
      "8                 Botswana      0.50       4\n",
      "9                   Brazil      2.80       4\n",
      "15                   China      1.03       4\n",
      "17                    Cuba      1.40       4\n",
      "19                   Egypt      1.18       4\n",
      "20             El Salvador      1.40       4\n",
      "23                 Georgia      2.40       4\n",
      "25               Guatemala      5.20       4\n",
      "32              Kazakhstan      2.10       4\n"
     ]
    }
   ],
   "source": [
    "print(four.describe())\n",
    "print(four)"
   ]
  },
  {
   "cell_type": "code",
   "execution_count": 180,
   "metadata": {},
   "outputs": [
    {
     "data": {
      "image/png": "[encoded data removed]",
      "text/plain": [
       "<matplotlib.figure.Figure at 0x1a185e3278>"
      ]
     },
     "metadata": {},
     "output_type": "display_data"
    }
   ],
   "source": [
    "plt.figure()\n",
    "#sns.countplot(data= df, x=labels).set_title('Number of Points in each Cluster')\n",
    "\n",
    "cluster_size = df.groupby(clustered_data).size()\n",
    "\n",
    "sns.countplot(clustered_data, palette='husl').set_title('Number of Points in KNN Cluster')\n",
    "\n",
    "plt.show()"
   ]
  },
  {
   "cell_type": "code",
   "execution_count": 181,
   "metadata": {},
   "outputs": [
    {
     "name": "stdout",
     "output_type": "stream",
     "text": [
      "explained variance ratio: [ 0.53071025  0.18396235]\n",
      "components shape: (2, 78)\n"
     ]
    }
   ],
   "source": [
    "# create and fit pca\n",
    "pca = PCA(n_components=2)\n",
    "pca.fit(X_train_minmax.T)\n",
    "\n",
    "# print results\n",
    "print('explained variance ratio:', pca.explained_variance_ratio_)\n",
    "print('components shape:', pca.components_.shape)"
   ]
  },
  {
   "cell_type": "code",
   "execution_count": 182,
   "metadata": {},
   "outputs": [
    {
     "data": {
      "image/png": "[encoded data removed]",
      "text/plain": [
       "<matplotlib.figure.Figure at 0x1a1a9197b8>"
      ]
     },
     "metadata": {},
     "output_type": "display_data"
    }
   ],
   "source": [
    "mergings = linkage(X_train_minmax, method='complete')\n",
    "\n",
    "plt.figure(figsize=(20,20))\n",
    "dendrogram(mergings,\n",
    "           labels=countries,\n",
    "           leaf_rotation=90,\n",
    "           leaf_font_size=11,\n",
    ")\n",
    "\n",
    "\n",
    "plt.show()"
   ]
  },
  {
   "cell_type": "code",
   "execution_count": 183,
   "metadata": {},
   "outputs": [
    {
     "name": "stdout",
     "output_type": "stream",
     "text": [
      "[4 2 1 4 4 4 1 4 3 4 1 1 2 1 4 2 4 4 4 2 4 1 3 2 4 2 1 3 4 2 3 2 2 1 4 3 1\n",
      " 1 1 1 2 1 3 2 3 2 2 1 3 2 3 1 1 2 2 2 2 2 1 3 2 1 2 4 3 2 1 2 1 2 2 2 1 2\n",
      " 2 2 1 1]\n"
     ]
    }
   ],
   "source": [
    "flabels = fcluster(mergings, 1.5, criterion='distance')\n",
    "print(flabels)"
   ]
  },
  {
   "cell_type": "code",
   "execution_count": 184,
   "metadata": {},
   "outputs": [
    {
     "data": {
      "image/png": "[encoded data removed]",
      "text/plain": [
       "<matplotlib.figure.Figure at 0x1a193f2ba8>"
      ]
     },
     "metadata": {},
     "output_type": "display_data"
    }
   ],
   "source": [
    "plt.figure()\n",
    "\n",
    "cluster_size = df.groupby(flabels).size()\n",
    "\n",
    "sns.countplot(flabels, palette='husl').set_title('Number of Points in Hierarchical Cluster')\n",
    "\n",
    "plt.show()"
   ]
  },
  {
   "cell_type": "code",
   "execution_count": 185,
   "metadata": {},
   "outputs": [
    {
     "name": "stdout",
     "output_type": "stream",
     "text": [
      "0                    b'Albania'\n",
      "1                    b'Algeria'\n",
      "2                     b'Angola'\n",
      "3        b'Antigua and Barbuda'\n",
      "4                    b'Belarus'\n",
      "5                     b'Belize'\n",
      "6                      b'Benin'\n",
      "7     b'Bosnia and Herzegovina'\n",
      "8                   b'Botswana'\n",
      "9                     b'Brazil'\n",
      "10              b'Burkina Faso'\n",
      "11                   b'Burundi'\n",
      "12                  b'Cambodia'\n",
      "13                  b'Cameroon'\n",
      "14                     b'Chile'\n",
      "15                     b'China'\n",
      "16                   b'Croatia'\n",
      "17                      b'Cuba'\n",
      "18                    b'Cyprus'\n",
      "19                     b'Egypt'\n",
      "20               b'El Salvador'\n",
      "21                  b'Ethiopia'\n",
      "22                    b'Gambia'\n",
      "23                   b'Georgia'\n",
      "24                    b'Greece'\n",
      "25                 b'Guatemala'\n",
      "26             b'Guinea-Bissau'\n",
      "27                     b'Haiti'\n",
      "28                   b'Hungary'\n",
      "29                     b'India'\n",
      "                ...            \n",
      "48                   b'Namibia'\n",
      "49                     b'Nepal'\n",
      "50                 b'Nicaragua'\n",
      "51                     b'Niger'\n",
      "52                   b'Nigeria'\n",
      "53                  b'Pakistan'\n",
      "54                    b'Panama'\n",
      "55                  b'Paraguay'\n",
      "56               b'Philippines'\n",
      "57                   b'Romania'\n",
      "58                    b'Rwanda'\n",
      "59                     b'Samoa'\n",
      "60              b'Saudi Arabia'\n",
      "61                   b'Senegal'\n",
      "62                b'Seychelles'\n",
      "63                  b'Slovenia'\n",
      "64              b'South Africa'\n",
      "65                 b'Sri Lanka'\n",
      "66                 b'Swaziland'\n",
      "67                b'Tajikistan'\n",
      "68                      b'Togo'\n",
      "69       b'Trinidad and Tobago'\n",
      "70                   b'Tunisia'\n",
      "71                    b'Turkey'\n",
      "72                    b'Uganda'\n",
      "73                   b'Ukraine'\n",
      "74                   b'Uruguay'\n",
      "75                b'Uzbekistan'\n",
      "76                    b'Zambia'\n",
      "77                  b'Zimbabwe'\n",
      "Name: Country, Length: 78, dtype: object\n"
     ]
    }
   ],
   "source": [
    "demograph= demographics2.loc[:, 'Country':'Smokers'].astype(str)\n",
    "demograph.Country = demograph.Country.astype(str)\n",
    "demograph.Country = demograph.Country.str.encode('utf-8')\n",
    "\n",
    "print(demograph.Country)"
   ]
  },
  {
   "cell_type": "code",
   "execution_count": 186,
   "metadata": {},
   "outputs": [
    {
     "name": "stdout",
     "output_type": "stream",
     "text": [
      "1                 b'Afghanistan'\n",
      "2                     b'Albania'\n",
      "3                     b'Algeria'\n",
      "4              b'American Samoa'\n",
      "5                     b'Andorra'\n",
      "6                      b'Angola'\n",
      "7                    b'Anguilla'\n",
      "8         b'Antigua and Barbuda'\n",
      "9                   b'Argentina'\n",
      "10                    b'Armenia'\n",
      "11                      b'Aruba'\n",
      "12                  b'Australia'\n",
      "13                    b'Austria'\n",
      "14                 b'Azerbaijan'\n",
      "15               b'Bahamas, The'\n",
      "16                    b'Bahrain'\n",
      "17                 b'Bangladesh'\n",
      "18                   b'Barbados'\n",
      "19                    b'Belarus'\n",
      "20                    b'Belgium'\n",
      "21                     b'Belize'\n",
      "22                      b'Benin'\n",
      "23                    b'Bermuda'\n",
      "24                     b'Bhutan'\n",
      "25                    b'Bolivia'\n",
      "26     b'Bosnia and Herzegovina'\n",
      "27                   b'Botswana'\n",
      "28                     b'Brazil'\n",
      "29         b'British Virgin Is.'\n",
      "30                     b'Brunei'\n",
      "                 ...            \n",
      "198                     b'Syria'\n",
      "199                    b'Taiwan'\n",
      "200                b'Tajikistan'\n",
      "201                  b'Tanzania'\n",
      "202                  b'Thailand'\n",
      "203                      b'Togo'\n",
      "204                     b'Tonga'\n",
      "205       b'Trinidad and Tobago'\n",
      "206                   b'Tunisia'\n",
      "207                    b'Turkey'\n",
      "208              b'Turkmenistan'\n",
      "209       b'Turks and Caicos Is'\n",
      "210                    b'Tuvalu'\n",
      "211                    b'Uganda'\n",
      "212                   b'Ukraine'\n",
      "213      b'United Arab Emirates'\n",
      "214            b'United Kingdom'\n",
      "215             b'United States'\n",
      "216                   b'Uruguay'\n",
      "217                b'Uzbekistan'\n",
      "218                   b'Vanuatu'\n",
      "219                 b'Venezuela'\n",
      "220                   b'Vietnam'\n",
      "221            b'Virgin Islands'\n",
      "222         b'Wallis and Futuna'\n",
      "223                 b'West Bank'\n",
      "224            b'Western Sahara'\n",
      "225                     b'Yemen'\n",
      "226                    b'Zambia'\n",
      "227                  b'Zimbabwe'\n",
      "Name: Country, Length: 227, dtype: object\n"
     ]
    }
   ],
   "source": [
    "world = pd.read_excel('countries of the world.xls', header = 3).loc[1:, 'Country':'Region'].astype(str)\n",
    "world.Country = world.Country.astype(str)\n",
    "world.Country = world.Country.str[:-1]\n",
    "world.Country = world.Country.str.replace('&','and')\n",
    "world.Country = world.Country.str.encode('utf-8')\n",
    "\n",
    "print(world.Country)"
   ]
  },
  {
   "cell_type": "code",
   "execution_count": 187,
   "metadata": {},
   "outputs": [
    {
     "name": "stdout",
     "output_type": "stream",
     "text": [
      "                  Country badteeth   literacy_avg water_avg        GDP_avg  \\\n",
      "0              b'Albania'     3.02  98.7129780777      88.0  1011.75269494   \n",
      "1              b'Algeria'      2.3  59.7521926392      90.4   1625.1409887   \n",
      "2               b'Angola'      1.7  67.4054160383      38.4  318.739948801   \n",
      "3  b'Antigua and Barbuda'      0.7          98.95      98.0  7874.82279781   \n",
      "4              b'Belarus'      2.7  98.7370522886      98.0  1196.02304297   \n",
      "\n",
      "       sugar_avg     health_avg Low_BMI Adolescent birth rate Tobacco_Use  \\\n",
      "0  49.5043181818  24.7513865611     1.9                  19.7        11.8   \n",
      "1  67.9952272727  50.4244901922     6.2                  12.4         9.0   \n",
      "2  33.1290909091  12.2751083489    10.3                 190.9        19.8   \n",
      "3  98.4431818182  259.996606047     3.5                  66.8        11.9   \n",
      "4  100.526923077  64.0792013689     2.5                  21.6        26.9   \n",
      "\n",
      "  Smokers                               Region  \n",
      "0    11.5  EASTERN EUROPE                       \n",
      "1     5.7  NORTHERN AFRICA                      \n",
      "2     2.3  SUB-SAHARAN AFRICA                   \n",
      "3     7.4              LATIN AMER. & CARIB      \n",
      "4    26.5                 C.W. OF IND. STATES   \n"
     ]
    }
   ],
   "source": [
    "regionscheck = pd.merge(demograph, world, on='Country', how='left')\n",
    "regionscheck.Region = regionscheck.Region.fillna('SUB-SAHARAN AFRICA')\n",
    "print(regionscheck.head())"
   ]
  },
  {
   "cell_type": "code",
   "execution_count": 188,
   "metadata": {},
   "outputs": [
    {
     "name": "stdout",
     "output_type": "stream",
     "text": [
      "                           Countries                                      \\\n",
      "Region ASIA (EX. NEAR EAST)          BALTICS                               \n",
      "labels                                                                     \n",
      "0                                4.0                                 NaN   \n",
      "1                                4.0                                 NaN   \n",
      "2                                NaN                                 NaN   \n",
      "3                                NaN                                 1.0   \n",
      "4                                1.0                                 NaN   \n",
      "\n",
      "                                                                 \\\n",
      "Region C.W. OF IND. STATES  EASTERN EUROPE                        \n",
      "labels                                                            \n",
      "0                       2.0                                 1.0   \n",
      "1                       NaN                                 NaN   \n",
      "2                       NaN                                 1.0   \n",
      "3                       2.0                                 2.0   \n",
      "4                       2.0                                 2.0   \n",
      "\n",
      "                                                                    \\\n",
      "Region LATIN AMER. & CARIB     NEAR EAST                             \n",
      "labels                                                               \n",
      "0                          4.0                                 1.0   \n",
      "1                          1.0                                 NaN   \n",
      "2                          NaN                                 3.0   \n",
      "3                          4.0                                 1.0   \n",
      "4                          6.0                                 NaN   \n",
      "\n",
      "                                            \\\n",
      "Region NORTHERN AFRICA                       \n",
      "labels                                       \n",
      "0                                      1.0   \n",
      "1                                      1.0   \n",
      "2                                      NaN   \n",
      "3                                      NaN   \n",
      "4                                      2.0   \n",
      "\n",
      "                                                               \\\n",
      "Region OCEANIA                             SUB-SAHARAN AFRICA   \n",
      "labels                                                          \n",
      "0                                      NaN                NaN   \n",
      "1                                      NaN                1.0   \n",
      "2                                      NaN                NaN   \n",
      "3                                      1.0                NaN   \n",
      "4                                      NaN                NaN   \n",
      "\n",
      "                                            \\\n",
      "Region SUB-SAHARAN AFRICA                    \n",
      "labels                                       \n",
      "0                                      5.0   \n",
      "1                                     22.0   \n",
      "2                                      NaN   \n",
      "3                                      1.0   \n",
      "4                                      1.0   \n",
      "\n",
      "                       ...                  \\\n",
      "Region                 ...                   \n",
      "labels                 ...                   \n",
      "0                      ...                   \n",
      "1                      ...                   \n",
      "2                      ...                   \n",
      "3                      ...                   \n",
      "4                      ...                   \n",
      "\n",
      "                                  badteeth                       \\\n",
      "Region BALTICS                             C.W. OF IND. STATES    \n",
      "labels                                                            \n",
      "0                                      NaN                  2.0   \n",
      "1                                      NaN                  NaN   \n",
      "2                                      NaN                  NaN   \n",
      "3                                      1.0                  2.0   \n",
      "4                                      NaN                  2.0   \n",
      "\n",
      "                                                                    \\\n",
      "Region EASTERN EUROPE                      LATIN AMER. & CARIB       \n",
      "labels                                                               \n",
      "0                                      1.0                     4.0   \n",
      "1                                      NaN                     1.0   \n",
      "2                                      1.0                     NaN   \n",
      "3                                      2.0                     4.0   \n",
      "4                                      2.0                     6.0   \n",
      "\n",
      "                                            \\\n",
      "Region NEAR EAST                             \n",
      "labels                                       \n",
      "0                                      1.0   \n",
      "1                                      NaN   \n",
      "2                                      3.0   \n",
      "3                                      1.0   \n",
      "4                                      NaN   \n",
      "\n",
      "                                            \\\n",
      "Region NORTHERN AFRICA                       \n",
      "labels                                       \n",
      "0                                      1.0   \n",
      "1                                      1.0   \n",
      "2                                      NaN   \n",
      "3                                      NaN   \n",
      "4                                      2.0   \n",
      "\n",
      "                                                               \\\n",
      "Region OCEANIA                             SUB-SAHARAN AFRICA   \n",
      "labels                                                          \n",
      "0                                      NaN                NaN   \n",
      "1                                      NaN                1.0   \n",
      "2                                      NaN                NaN   \n",
      "3                                      1.0                NaN   \n",
      "4                                      NaN                NaN   \n",
      "\n",
      "                                                                                \n",
      "Region SUB-SAHARAN AFRICA                  WESTERN EUROPE                       \n",
      "labels                                                                          \n",
      "0                                      5.0                                 NaN  \n",
      "1                                     22.0                                 NaN  \n",
      "2                                      NaN                                 1.0  \n",
      "3                                      1.0                                 NaN  \n",
      "4                                      1.0                                 NaN  \n",
      "\n",
      "[5 rows x 22 columns]\n"
     ]
    }
   ],
   "source": [
    "#df = df.drop['badteeth']\n",
    "df['Region'] = regionscheck['Region']\n",
    "df = df.pivot_table(index='labels',columns='Region',aggfunc='count')\n",
    "print(df)"
   ]
  },
  {
   "cell_type": "code",
   "execution_count": null,
   "metadata": {
    "collapsed": true
   },
   "outputs": [],
   "source": []
  }
 ],
 "metadata": {
  "kernelspec": {
   "display_name": "Python 3",
   "language": "python",
   "name": "python3"
  },
  "language_info": {
   "codemirror_mode": {
    "name": "ipython",
    "version": 3
   },
   "file_extension": ".py",
   "mimetype": "text/x-python",
   "name": "python",
   "nbconvert_exporter": "python",
   "pygments_lexer": "ipython3",
   "version": "3.6.3"
  }
 },
 "nbformat": 4,
 "nbformat_minor": 2
}
