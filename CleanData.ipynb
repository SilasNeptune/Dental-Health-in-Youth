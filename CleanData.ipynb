{
 "cells": [
  {
   "cell_type": "markdown",
   "metadata": {},
   "source": [
    "\n",
    "# Dental Health Prediction Data Wrangling\n"
   ]
  },
  {
   "cell_type": "code",
   "execution_count": 3,
   "metadata": {
    "collapsed": true
   },
   "outputs": [],
   "source": [
    "import numpy as np \n",
    "import pandas as pd \n",
    "import seaborn as sns\n",
    "from sklearn.linear_model import LinearRegression\n",
    "import matplotlib.pyplot as plt\n",
    "from scipy import stats\n"
   ]
  },
  {
   "cell_type": "markdown",
   "metadata": {},
   "source": [
    "### Load and clean Literacy data"
   ]
  },
  {
   "cell_type": "code",
   "execution_count": 4,
   "metadata": {},
   "outputs": [
    {
     "name": "stdout",
     "output_type": "stream",
     "text": [
      "       Country  literacy_avg\n",
      "0  Afghanistan     18.157681\n",
      "1      Albania     98.712978\n",
      "2      Algeria     59.752193\n",
      "4       Angola     67.405416\n",
      "5     Anguilla     95.407098\n",
      "       literacy_avg\n",
      "count    147.000000\n",
      "mean      73.945211\n",
      "std       23.471539\n",
      "min        9.391331\n",
      "25%       60.319077\n",
      "50%       80.105363\n",
      "75%       94.873104\n",
      "max       99.746818\n"
     ]
    }
   ],
   "source": [
    "literacy = pd.read_csv('adultliteracy.csv')\n",
    "literacy.rename(index = str, columns={'Adult..15...literacy.rate......Total':'Country'}, inplace=True)\n",
    "literacy.dropna(how='all', subset = list(literacy.columns)[1:], inplace=True)\n",
    "literacy['literacy_avg'] = literacy[list(literacy.columns)[1:30]].mean(axis=1,skipna = True)\n",
    "literacy.drop(list(literacy.columns)[1:literacy.shape[1]-1], axis = 1, inplace = True)\n",
    "print(literacy.head())\n",
    "print(literacy.describe())"
   ]
  },
  {
   "cell_type": "markdown",
   "metadata": {},
   "source": [
    "### Load and clean dental records"
   ]
  },
  {
   "cell_type": "code",
   "execution_count": 5,
   "metadata": {
    "collapsed": true
   },
   "outputs": [
    {
     "name": "stdout",
     "output_type": "stream",
     "text": [
      "       Country  badteeth\n",
      "0  Afghanistan      2.90\n",
      "1      Albania      3.02\n",
      "2      Algeria      2.30\n",
      "3       Angola      1.70\n",
      "4     Anguilla      2.50\n",
      "         badteeth\n",
      "count  190.000000\n",
      "mean     2.132947\n",
      "std      1.292823\n",
      "min      0.200000\n",
      "25%      1.142500\n",
      "50%      1.800000\n",
      "75%      2.975000\n",
      "max      6.300000\n"
     ]
    }
   ],
   "source": [
    "badteeth = pd.read_csv('badteeth.csv')\n",
    "badteeth.drop(['NA..1', 'NA..2', 'NA..3'], axis = 1, inplace = True)\n",
    "badteeth.dropna(inplace = True)\n",
    "badteeth.rename(columns = {'NA.':'Country', 'X2004':'badteeth'}, inplace=True)\n",
    "print(badteeth.head())\n",
    "print(badteeth.describe())"
   ]
  },
  {
   "cell_type": "markdown",
   "metadata": {},
   "source": [
    "### Load and clean GDP info"
   ]
  },
  {
   "cell_type": "code",
   "execution_count": 6,
   "metadata": {
    "collapsed": true
   },
   "outputs": [
    {
     "name": "stdout",
     "output_type": "stream",
     "text": [
      "               Country       GDP_avg\n",
      "3              Albania   1011.752695\n",
      "4              Algeria   1625.140989\n",
      "6              Andorra  16623.189750\n",
      "7               Angola    318.739949\n",
      "9  Antigua and Barbuda   7874.822798\n",
      "            GDP_avg\n",
      "count    200.000000\n",
      "mean    6051.864501\n",
      "std     9577.248902\n",
      "min      124.949106\n",
      "25%      565.390304\n",
      "50%     1719.609992\n",
      "75%     6775.361786\n",
      "max    65922.599960\n"
     ]
    }
   ],
   "source": [
    "GDP = pd.read_csv('gdp.csv')\n",
    "GDP.rename(index = str, columns={'Income.per.person..fixed.2000.US..':'Country'}, inplace=True)\n",
    "GDP.dropna(how=\"all\", subset = list(GDP.columns)[1:], inplace=True)\n",
    "GDP['GDP_avg'] = GDP[list(GDP.columns)[1:44]].mean(axis=1,skipna = True)\n",
    "GDP.drop(list(GDP.columns)[1:GDP.shape[1]-1], axis = 1, inplace = True)\n",
    "print(GDP.head())\n",
    "print(GDP.describe())"
   ]
  },
  {
   "cell_type": "markdown",
   "metadata": {},
   "source": [
    "### Load and clean Health Expenditure data"
   ]
  },
  {
   "cell_type": "code",
   "execution_count": 7,
   "metadata": {},
   "outputs": [
    {
     "name": "stdout",
     "output_type": "stream",
     "text": [
      "       Country  health_avg\n",
      "246  Venezuela   76.519263\n",
      "250    Vietnam    6.336942\n",
      "254      Yemen   12.509311\n",
      "256     Zambia   13.064692\n",
      "257   Zimbabwe   27.343722\n",
      "        health_avg\n",
      "count   192.000000\n",
      "mean    327.700596\n",
      "std     620.587169\n",
      "min       0.372222\n",
      "25%      12.450760\n",
      "50%      65.954780\n",
      "75%     267.774253\n",
      "max    2890.305843\n"
     ]
    }
   ],
   "source": [
    "healthexp = pd.read_csv('healthexpend.csv')\n",
    "healthexp.rename(columns = {'Per.capita.government.expenditure.on.health.at.average.exchange.rate..US..':'Country'}, inplace = True)\n",
    "healthexp.dropna(how='all', subset = list(healthexp.columns)[1:], inplace=True) \n",
    "healthexp['health_avg'] = healthexp[list(healthexp.columns)[1:10]].mean(axis=1,skipna = True)\n",
    "healthexp.drop(list(healthexp.columns)[1:healthexp.shape[1]-1], axis = 1, inplace = True)\n",
    "print(healthexp.tail())\n",
    "print(healthexp.describe())"
   ]
  },
  {
   "cell_type": "markdown",
   "metadata": {},
   "source": [
    "### Load and clean Sugar Consumption info"
   ]
  },
  {
   "cell_type": "code",
   "execution_count": 8,
   "metadata": {},
   "outputs": [
    {
     "name": "stdout",
     "output_type": "stream",
     "text": [
      "                Country   sugar_avg\n",
      "3               Albania   49.504318\n",
      "4               Algeria   67.995227\n",
      "7                Angola   33.129091\n",
      "9   Antigua and Barbuda   98.443182\n",
      "10            Argentina  111.458182\n",
      "        sugar_avg\n",
      "count  179.000000\n",
      "mean    74.313813\n",
      "std     42.231186\n",
      "min      2.677727\n",
      "25%     37.234187\n",
      "50%     80.135909\n",
      "75%    108.406818\n",
      "max    165.130455\n"
     ]
    }
   ],
   "source": [
    "sugar = pd.read_csv('sugar_consumption.csv')\n",
    "sugar.rename(columns = {'NA.':'Country'}, inplace = True)\n",
    "sugar.dropna(how='all', subset = list(sugar.columns)[1:], inplace=True)\n",
    "sugar['sugar_avg'] = sugar[list(sugar.columns)[1:]].mean(axis=1,skipna = True)\n",
    "sugar.drop(list(sugar.columns)[1:sugar.shape[1]-1], axis = 1, inplace = True)\n",
    "print(sugar.head())\n",
    "print(sugar.describe())"
   ]
  },
  {
   "cell_type": "markdown",
   "metadata": {},
   "source": [
    "### Load and clean Water Sanitation info"
   ]
  },
  {
   "cell_type": "code",
   "execution_count": 9,
   "metadata": {
    "collapsed": true
   },
   "outputs": [
    {
     "name": "stdout",
     "output_type": "stream",
     "text": [
      "       Country  water_avg\n",
      "2  Afghanistan       30.2\n",
      "3      Albania       88.0\n",
      "4      Algeria       90.4\n",
      "5      Andorra      100.0\n",
      "6       Angola       38.4\n",
      "        water_avg\n",
      "count  188.000000\n",
      "mean    81.165603\n",
      "std     21.293685\n",
      "min     17.000000\n",
      "25%     68.550000\n",
      "50%     89.500000\n",
      "75%     98.050000\n",
      "max    100.000000\n"
     ]
    }
   ],
   "source": [
    "cleanwater = pd.read_csv('cleanwater.csv')\n",
    "cleanwater.rename(columns = {'Unnamed: 0':'Country'}, inplace = True)\n",
    "cleanwater.set_index('Country')\n",
    "cleanwater.dropna(how='all', subset = list(cleanwater.columns)[1:], inplace=True)\n",
    "cleanwater=cleanwater.iloc[2:, :]\n",
    "\n",
    "cleanwater['2004'] = pd.to_numeric(cleanwater['2004'])\n",
    "cleanwater['2003'] = pd.to_numeric(cleanwater['2003'])\n",
    "cleanwater['2002'] = pd.to_numeric(cleanwater['2002'])\n",
    "cleanwater['2001'] = pd.to_numeric(cleanwater['2001'])\n",
    "cleanwater['2000'] = pd.to_numeric(cleanwater['2000'])\n",
    "cleanwater['water_avg'] = cleanwater.mean(numeric_only=True, axis=1)\n",
    "cleanwater.drop(list(cleanwater.columns)[1:cleanwater.shape[1]-1], axis = 1, inplace = True)\n",
    "print(cleanwater.head())\n",
    "print(cleanwater.describe())"
   ]
  },
  {
   "cell_type": "markdown",
   "metadata": {},
   "source": [
    "### Merge all data and view basic correlations"
   ]
  },
  {
   "cell_type": "code",
   "execution_count": 12,
   "metadata": {},
   "outputs": [
    {
     "data": {
      "text/html": [
       "<div>\n",
       "<style>\n",
       "    .dataframe thead tr:only-child th {\n",
       "        text-align: right;\n",
       "    }\n",
       "\n",
       "    .dataframe thead th {\n",
       "        text-align: left;\n",
       "    }\n",
       "\n",
       "    .dataframe tbody tr th {\n",
       "        vertical-align: top;\n",
       "    }\n",
       "</style>\n",
       "<table border=\"1\" class=\"dataframe\">\n",
       "  <thead>\n",
       "    <tr style=\"text-align: right;\">\n",
       "      <th></th>\n",
       "      <th>badteeth</th>\n",
       "      <th>literacy_avg</th>\n",
       "      <th>water_avg</th>\n",
       "      <th>GDP_avg</th>\n",
       "      <th>sugar_avg</th>\n",
       "      <th>health_avg</th>\n",
       "    </tr>\n",
       "  </thead>\n",
       "  <tbody>\n",
       "    <tr>\n",
       "      <th>badteeth</th>\n",
       "      <td>1.000000</td>\n",
       "      <td>0.398946</td>\n",
       "      <td>0.376938</td>\n",
       "      <td>0.347446</td>\n",
       "      <td>0.351951</td>\n",
       "      <td>0.310519</td>\n",
       "    </tr>\n",
       "    <tr>\n",
       "      <th>literacy_avg</th>\n",
       "      <td>0.398946</td>\n",
       "      <td>1.000000</td>\n",
       "      <td>0.624686</td>\n",
       "      <td>0.570191</td>\n",
       "      <td>0.492863</td>\n",
       "      <td>0.580152</td>\n",
       "    </tr>\n",
       "    <tr>\n",
       "      <th>water_avg</th>\n",
       "      <td>0.376938</td>\n",
       "      <td>0.624686</td>\n",
       "      <td>1.000000</td>\n",
       "      <td>0.812850</td>\n",
       "      <td>0.663530</td>\n",
       "      <td>0.820977</td>\n",
       "    </tr>\n",
       "    <tr>\n",
       "      <th>GDP_avg</th>\n",
       "      <td>0.347446</td>\n",
       "      <td>0.570191</td>\n",
       "      <td>0.812850</td>\n",
       "      <td>1.000000</td>\n",
       "      <td>0.763991</td>\n",
       "      <td>0.947432</td>\n",
       "    </tr>\n",
       "    <tr>\n",
       "      <th>sugar_avg</th>\n",
       "      <td>0.351951</td>\n",
       "      <td>0.492863</td>\n",
       "      <td>0.663530</td>\n",
       "      <td>0.763991</td>\n",
       "      <td>1.000000</td>\n",
       "      <td>0.750462</td>\n",
       "    </tr>\n",
       "    <tr>\n",
       "      <th>health_avg</th>\n",
       "      <td>0.310519</td>\n",
       "      <td>0.580152</td>\n",
       "      <td>0.820977</td>\n",
       "      <td>0.947432</td>\n",
       "      <td>0.750462</td>\n",
       "      <td>1.000000</td>\n",
       "    </tr>\n",
       "  </tbody>\n",
       "</table>\n",
       "</div>"
      ],
      "text/plain": [
       "              badteeth  literacy_avg  water_avg   GDP_avg  sugar_avg  \\\n",
       "badteeth      1.000000      0.398946   0.376938  0.347446   0.351951   \n",
       "literacy_avg  0.398946      1.000000   0.624686  0.570191   0.492863   \n",
       "water_avg     0.376938      0.624686   1.000000  0.812850   0.663530   \n",
       "GDP_avg       0.347446      0.570191   0.812850  1.000000   0.763991   \n",
       "sugar_avg     0.351951      0.492863   0.663530  0.763991   1.000000   \n",
       "health_avg    0.310519      0.580152   0.820977  0.947432   0.750462   \n",
       "\n",
       "              health_avg  \n",
       "badteeth        0.310519  \n",
       "literacy_avg    0.580152  \n",
       "water_avg       0.820977  \n",
       "GDP_avg         0.947432  \n",
       "sugar_avg       0.750462  \n",
       "health_avg      1.000000  "
      ]
     },
     "execution_count": 12,
     "metadata": {},
     "output_type": "execute_result"
    }
   ],
   "source": [
    "demographics = badteeth.merge(literacy,on='Country', how = 'inner').merge(cleanwater,on='Country', how = 'inner').merge(GDP,on='Country', how = 'inner').merge(sugar,on='Country', how = 'inner').merge(healthexp,on='Country', how = 'inner')\n",
    "demographics.to_csv('demographics.csv')\n",
    "dem_corr = demographics.corr(method = 'spearman')\n",
    "dem_corr"
   ]
  },
  {
   "cell_type": "code",
   "execution_count": null,
   "metadata": {},
   "outputs": [],
   "source": []
  }
 ],
 "metadata": {
  "kernelspec": {
   "display_name": "Python 3",
   "language": "python",
   "name": "python3"
  }
 },
 "nbformat": 4,
 "nbformat_minor": 2
}
